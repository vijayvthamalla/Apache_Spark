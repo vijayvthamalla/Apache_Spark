{
 "cells": [
  {
   "cell_type": "code",
   "execution_count": 1,
   "id": "61c741b7",
   "metadata": {},
   "outputs": [],
   "source": [
    "from pyspark.sql import SparkSession\n",
    "from pyspark.sql.functions import count"
   ]
  },
  {
   "cell_type": "code",
   "execution_count": 5,
   "id": "da809c71",
   "metadata": {},
   "outputs": [],
   "source": [
    "ss = (SparkSession.builder.appName(\"TotalOrdersPerRegionCountry\").getOrCreate())"
   ]
  },
  {
   "cell_type": "code",
   "execution_count": 6,
   "id": "d250070b",
   "metadata": {},
   "outputs": [
    {
     "data": {
      "text/plain": [
       "pyspark.sql.session.SparkSession"
      ]
     },
     "execution_count": 6,
     "metadata": {},
     "output_type": "execute_result"
    }
   ],
   "source": [
    "type(ss)"
   ]
  },
  {
   "cell_type": "code",
   "execution_count": 9,
   "id": "3fae55bf",
   "metadata": {},
   "outputs": [],
   "source": [
    "sales_file = \"data/sales_records.csv\"\n",
    "\n",
    "sales_df = (ss.read.format(\"csv\").option(\"header\",\"true\").option(\"inferSchema\",\"true\").load(sales_file))"
   ]
  },
  {
   "cell_type": "code",
   "execution_count": 10,
   "id": "9ccf90b3",
   "metadata": {},
   "outputs": [
    {
     "name": "stdout",
     "output_type": "stream",
     "text": [
      "+---------------------------------+---------------------+---------+\n",
      "|Region                           |Country              |Order ID |\n",
      "+---------------------------------+---------------------+---------+\n",
      "|Middle East and North Africa     |Azerbaijan           |535113847|\n",
      "|Central America and the Caribbean|Panama               |874708545|\n",
      "|Sub-Saharan Africa               |Sao Tome and Principe|854349935|\n",
      "|Sub-Saharan Africa               |Sao Tome and Principe|892836844|\n",
      "|Central America and the Caribbean|Belize               |129280602|\n",
      "|Europe                           |Denmark              |473105037|\n",
      "|Europe                           |Germany              |754046475|\n",
      "|Middle East and North Africa     |Turkey               |772153747|\n",
      "|Europe                           |United Kingdom       |847788178|\n",
      "|Asia                             |Kazakhstan           |471623599|\n",
      "+---------------------------------+---------------------+---------+\n",
      "only showing top 10 rows\n",
      "\n"
     ]
    }
   ],
   "source": [
    "sales_df.select(\"Region\",\"Country\",\"Order ID\").show(n=10,truncate=False)"
   ]
  },
  {
   "cell_type": "code",
   "execution_count": 11,
   "id": "4d772323",
   "metadata": {},
   "outputs": [
    {
     "data": {
      "text/plain": [
       "pyspark.sql.dataframe.DataFrame"
      ]
     },
     "execution_count": 11,
     "metadata": {},
     "output_type": "execute_result"
    }
   ],
   "source": [
    "type(sales_df)"
   ]
  },
  {
   "cell_type": "code",
   "execution_count": 13,
   "id": "15d864ca",
   "metadata": {},
   "outputs": [
    {
     "name": "stdout",
     "output_type": "stream",
     "text": [
      "+---------------------------------+-------------+------------+\n",
      "|Region                           |Country      |Total Orders|\n",
      "+---------------------------------+-------------+------------+\n",
      "|Sub-Saharan Africa               |Sudan        |623         |\n",
      "|Australia and Oceania            |New Zealand  |593         |\n",
      "|Europe                           |Vatican City |590         |\n",
      "|Europe                           |Malta        |589         |\n",
      "|Sub-Saharan Africa               |Mozambique   |589         |\n",
      "|Asia                             |Cambodia     |584         |\n",
      "|Middle East and North Africa     |Tunisia      |584         |\n",
      "|Central America and the Caribbean|Panama       |578         |\n",
      "|Sub-Saharan Africa               |Rwanda       |576         |\n",
      "|Sub-Saharan Africa               |Cote d'Ivoire|575         |\n",
      "+---------------------------------+-------------+------------+\n",
      "only showing top 10 rows\n",
      "\n",
      "Total Rows =  185\n"
     ]
    }
   ],
   "source": [
    "count_sales_df = (sales_df.select(\"Region\",\"Country\",\"Order ID\")\n",
    "                  .groupBy(\"Region\",\"Country\")\n",
    "                  .agg(count(\"Order ID\").alias(\"Total Orders\"))\n",
    "                  .orderBy(\"Total Orders\",ascending=False))\n",
    "\n",
    "count_sales_df.show(n=10,truncate=False)\n",
    "print(\"Total Rows = \", (count_sales_df.count()))"
   ]
  },
  {
   "cell_type": "code",
   "execution_count": null,
   "id": "e0184f94",
   "metadata": {},
   "outputs": [],
   "source": []
  }
 ],
 "metadata": {
  "kernelspec": {
   "display_name": "Python 3 (ipykernel)",
   "language": "python",
   "name": "python3"
  },
  "language_info": {
   "codemirror_mode": {
    "name": "ipython",
    "version": 3
   },
   "file_extension": ".py",
   "mimetype": "text/x-python",
   "name": "python",
   "nbconvert_exporter": "python",
   "pygments_lexer": "ipython3",
   "version": "3.11.4"
  }
 },
 "nbformat": 4,
 "nbformat_minor": 5
}

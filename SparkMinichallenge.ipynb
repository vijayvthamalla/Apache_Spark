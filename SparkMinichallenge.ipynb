{
 "cells": [
  {
   "cell_type": "markdown",
   "id": "06f70000",
   "metadata": {},
   "source": [
    "## Spark Session"
   ]
  },
  {
   "cell_type": "code",
   "execution_count": 1,
   "id": "4b95c105",
   "metadata": {},
   "outputs": [],
   "source": [
    "from pyspark.sql import SparkSession"
   ]
  },
  {
   "cell_type": "code",
   "execution_count": 2,
   "id": "03510dd1",
   "metadata": {},
   "outputs": [],
   "source": [
    "spark = SparkSession.builder.appName(\"XYZ_challenge\").getOrCreate()"
   ]
  },
  {
   "cell_type": "code",
   "execution_count": 3,
   "id": "7f6bc1e6",
   "metadata": {},
   "outputs": [
    {
     "data": {
      "text/plain": [
       "pyspark.sql.session.SparkSession"
      ]
     },
     "execution_count": 3,
     "metadata": {},
     "output_type": "execute_result"
    }
   ],
   "source": [
    "type(spark)"
   ]
  },
  {
   "cell_type": "markdown",
   "id": "613d3378",
   "metadata": {},
   "source": [
    "## Data collection and RDD creation"
   ]
  },
  {
   "cell_type": "code",
   "execution_count": 4,
   "id": "8fd4891f",
   "metadata": {},
   "outputs": [],
   "source": [
    "data2001List = ['RIN1', 'RIN2', 'RIN3', 'RIN4', 'RIN5', 'RIN6', 'RIN7']\n",
    "data2002List = ['RIN3', 'RIN4', 'RIN7', 'RIN8', 'RIN9']\n",
    "data2003List = ['RIN4', 'RIN8', 'RIN10', 'RIN11', 'RIN12']"
   ]
  },
  {
   "cell_type": "code",
   "execution_count": 5,
   "id": "fe7d9acb",
   "metadata": {},
   "outputs": [],
   "source": [
    "data2001rdd = spark.sparkContext.parallelize(data2001List)\n",
    "data2002rdd = spark.sparkContext.parallelize(data2002List)\n",
    "data2003rdd = spark.sparkContext.parallelize(data2003List)"
   ]
  },
  {
   "cell_type": "code",
   "execution_count": 6,
   "id": "76b9f4bf",
   "metadata": {},
   "outputs": [
    {
     "data": {
      "text/plain": [
       "['RIN1', 'RIN2', 'RIN3', 'RIN4', 'RIN5', 'RIN6', 'RIN7']"
      ]
     },
     "execution_count": 6,
     "metadata": {},
     "output_type": "execute_result"
    }
   ],
   "source": [
    "data2001rdd.collect()"
   ]
  },
  {
   "cell_type": "code",
   "execution_count": 7,
   "id": "6b843a7a",
   "metadata": {},
   "outputs": [
    {
     "data": {
      "text/plain": [
       "['RIN3', 'RIN4', 'RIN7', 'RIN8', 'RIN9']"
      ]
     },
     "execution_count": 7,
     "metadata": {},
     "output_type": "execute_result"
    }
   ],
   "source": [
    "data2002rdd.collect()"
   ]
  },
  {
   "cell_type": "code",
   "execution_count": 8,
   "id": "62159b8e",
   "metadata": {},
   "outputs": [
    {
     "data": {
      "text/plain": [
       "['RIN4', 'RIN8', 'RIN10', 'RIN11', 'RIN12']"
      ]
     },
     "execution_count": 8,
     "metadata": {},
     "output_type": "execute_result"
    }
   ],
   "source": [
    "data2003rdd.collect()"
   ]
  },
  {
   "cell_type": "markdown",
   "id": "5de1be6b",
   "metadata": {},
   "source": [
    "## Q&A"
   ]
  },
  {
   "cell_type": "markdown",
   "id": "ebbb6ca9",
   "metadata": {},
   "source": [
    "### 1. How many research projects were initiated in the three years?"
   ]
  },
  {
   "cell_type": "code",
   "execution_count": 9,
   "id": "1e1ea488",
   "metadata": {},
   "outputs": [
    {
     "data": {
      "text/plain": [
       "['RIN7',\n",
       " 'RIN9',\n",
       " 'RIN6',\n",
       " 'RIN12',\n",
       " 'RIN11',\n",
       " 'RIN2',\n",
       " 'RIN3',\n",
       " 'RIN1',\n",
       " 'RIN4',\n",
       " 'RIN10',\n",
       " 'RIN8',\n",
       " 'RIN5']"
      ]
     },
     "execution_count": 9,
     "metadata": {},
     "output_type": "execute_result"
    }
   ],
   "source": [
    "alldistrdd = data2001rdd.union(data2002rdd).union(data2003rdd).distinct()\n",
    "alldistrdd.collect()"
   ]
  },
  {
   "cell_type": "code",
   "execution_count": 10,
   "id": "5974df86",
   "metadata": {},
   "outputs": [
    {
     "data": {
      "text/plain": [
       "12"
      ]
     },
     "execution_count": 10,
     "metadata": {},
     "output_type": "execute_result"
    }
   ],
   "source": [
    "alldistrdd.count()"
   ]
  },
  {
   "cell_type": "markdown",
   "id": "4a564cf0",
   "metadata": {},
   "source": [
    "### 2. How many projects were completed in the first year?"
   ]
  },
  {
   "cell_type": "code",
   "execution_count": 11,
   "id": "0c13e249",
   "metadata": {},
   "outputs": [
    {
     "data": {
      "text/plain": [
       "['RIN2', 'RIN1', 'RIN6', 'RIN5']"
      ]
     },
     "execution_count": 11,
     "metadata": {},
     "output_type": "execute_result"
    }
   ],
   "source": [
    "firstcompletedrdd = data2001rdd.subtract(data2002rdd)\n",
    "firstcompletedrdd.collect()"
   ]
  },
  {
   "cell_type": "code",
   "execution_count": 12,
   "id": "c4053c00",
   "metadata": {},
   "outputs": [
    {
     "data": {
      "text/plain": [
       "4"
      ]
     },
     "execution_count": 12,
     "metadata": {},
     "output_type": "execute_result"
    }
   ],
   "source": [
    "firstcompletedrdd.count()"
   ]
  },
  {
   "cell_type": "markdown",
   "id": "f71089bb",
   "metadata": {},
   "source": [
    "### 3. How many projects were completed in the first two years?"
   ]
  },
  {
   "cell_type": "code",
   "execution_count": 13,
   "id": "4c936ca0",
   "metadata": {},
   "outputs": [
    {
     "data": {
      "text/plain": [
       "['RIN7', 'RIN9', 'RIN6', 'RIN2', 'RIN3', 'RIN1', 'RIN5']"
      ]
     },
     "execution_count": 13,
     "metadata": {},
     "output_type": "execute_result"
    }
   ],
   "source": [
    "first2comprdd = data2001rdd.union(data2002rdd).subtract(data2003rdd).distinct()\n",
    "first2comprdd.collect()"
   ]
  },
  {
   "cell_type": "code",
   "execution_count": 14,
   "id": "fbce3f70",
   "metadata": {},
   "outputs": [
    {
     "data": {
      "text/plain": [
       "7"
      ]
     },
     "execution_count": 14,
     "metadata": {},
     "output_type": "execute_result"
    }
   ],
   "source": [
    "first2comprdd.count()"
   ]
  }
 ],
 "metadata": {
  "kernelspec": {
   "display_name": "Python 3 (ipykernel)",
   "language": "python",
   "name": "python3"
  },
  "language_info": {
   "codemirror_mode": {
    "name": "ipython",
    "version": 3
   },
   "file_extension": ".py",
   "mimetype": "text/x-python",
   "name": "python",
   "nbconvert_exporter": "python",
   "pygments_lexer": "ipython3",
   "version": "3.11.4"
  }
 },
 "nbformat": 4,
 "nbformat_minor": 5
}
